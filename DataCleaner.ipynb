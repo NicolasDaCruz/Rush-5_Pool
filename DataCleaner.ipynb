{
 "cells": [
  {
   "cell_type": "code",
   "execution_count": null,
   "metadata": {},
   "outputs": [],
   "source": [
    "import pandas as pd\n",
    "\n",
    "# Chargement des données à partir du fichier Excel\n",
    "file_path = 'Camp_Market.xlsx'  # Remplacez par le chemin de votre fichier\n",
    "data = pd.read_excel(file_path)\n",
    "\n",
    "# Si nécessaire, définir la première ligne comme en-tête\n",
    "data.columns = data.iloc[0]\n",
    "data = data.drop(0)\n",
    "\n",
    "# Conversion des colonnes 'Year_Birth' et 'Income' en numérique\n",
    "data['Year_Birth'] = pd.to_numeric(data['Year_Birth'], errors='coerce')\n",
    "data['Income'] = pd.to_numeric(data['Income'], errors='coerce')\n",
    "\n",
    "# Calculer le total des dépenses par client\n",
    "product_columns = [col for col in data.columns if col.startswith('Mnt')]\n",
    "data['Total_Spent'] = data[product_columns].sum(axis=1)\n",
    "\n",
    "# Définition des seuils pour le nettoyage\n",
    "threshold_income = 5000\n",
    "threshold_spent = 1000\n",
    "\n",
    "# Suppression des statuts 'YOLO' et filtrage selon les seuils définis\n",
    "data = data[data['Marital_Status'] != 'YOLO']\n",
    "filtered_data = data[\n",
    "    (data['Year_Birth'] >= 1900) & \n",
    "    ((data['Income'] > threshold_income) | (data['Total_Spent'] <= threshold_spent))\n",
    "]\n",
    "\n",
    "# Sauvegarde des données nettoyées\n",
    "cleaned_file_path = 'Cleaned_Camp_Market.xlsx'\n",
    "filtered_data.to_excel(cleaned_file_path, index=False)\n",
    "\n",
    "print(\"Les données nettoyées ont été enregistrées sous :\", cleaned_file_path)\n"
   ]
  }
 ],
 "metadata": {
  "language_info": {
   "name": "python"
  }
 },
 "nbformat": 4,
 "nbformat_minor": 2
}
