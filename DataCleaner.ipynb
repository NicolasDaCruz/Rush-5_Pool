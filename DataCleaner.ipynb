{
 "cells": [
  {
   "cell_type": "code",
   "execution_count": 2,
   "metadata": {},
   "outputs": [
    {
     "name": "stdout",
     "output_type": "stream",
     "text": [
      "Les données nettoyées ont été enregistrées sous : Cleaned_Camp_Market.xlsx\n"
     ]
    }
   ],
   "source": [
    "import pandas as pd\n",
    "\n",
    "# Chargement des données à partir du fichier Excel\n",
    "file_path = 'Camp_Market.xlsx'  # Remplacez par le chemin de votre fichier\n",
    "data = pd.read_excel(file_path)\n",
    "\n",
    "# Si nécessaire, définir la première ligne comme en-tête\n",
    "data.columns = data.iloc[0]\n",
    "data = data.drop(0)\n",
    "\n",
    "# Conversion des colonnes 'Year_Birth' et 'Income' en numérique\n",
    "data['Year_Birth'] = pd.to_numeric(data['Year_Birth'], errors='coerce')\n",
    "data['Income'] = pd.to_numeric(data['Income'], errors='coerce')\n",
    "\n",
    "# Calculer le total des dépenses par client\n",
    "product_columns = [col for col in data.columns if col.startswith('Mnt')]\n",
    "data['Total_Spent'] = data[product_columns].sum(axis=1)\n",
    "\n",
    "# Définition des seuils pour le nettoyage\n",
    "threshold_income = 5000\n",
    "threshold_spent = 1000\n",
    "\n",
    "# Suppression des statuts 'YOLO' et filtrage selon les seuils définis\n",
    "data = data[data['Marital_Status'] != 'YOLO']\n",
    "filtered_data = data[\n",
    "    (data['Year_Birth'] >= 1900) & \n",
    "    ((data['Income'] > threshold_income) | (data['Total_Spent'] <= threshold_spent))\n",
    "]\n",
    "\n",
    "# Sauvegarde des données nettoyées\n",
    "cleaned_file_path = 'Cleaned_Camp_Market.xlsx'\n",
    "filtered_data.to_excel(cleaned_file_path, index=False)\n",
    "\n",
    "print(\"Les données nettoyées ont été enregistrées sous :\", cleaned_file_path)\n"
   ]
  }
 ],
 "metadata": {
  "kernelspec": {
   "display_name": "Python 3",
   "language": "python",
   "name": "python3"
  },
  "language_info": {
   "codemirror_mode": {
    "name": "ipython",
    "version": 3
   },
   "file_extension": ".py",
   "mimetype": "text/x-python",
   "name": "python",
   "nbconvert_exporter": "python",
   "pygments_lexer": "ipython3",
   "version": "3.10.6"
  }
 },
 "nbformat": 4,
 "nbformat_minor": 2
}
