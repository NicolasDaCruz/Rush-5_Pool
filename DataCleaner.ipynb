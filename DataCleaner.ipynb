{
 "cells": [
  {
   "cell_type": "code",
   "execution_count": null,
   "metadata": {},
   "outputs": [],
   "source": [
    "import pandas as pd\n",
    "\n",
    "# Load the dataset from an Excel file\n",
    "file_path = 'Camp_Market.xlsx'  # Replace with your file path\n",
    "data = pd.read_excel(file_path)\n",
    "\n",
    "# Set the first row as header if necessary (adjust if your data already has headers)\n",
    "data.columns = data.iloc[0]  # Set the first row as header\n",
    "data = data.drop(0)  # Drop the first row as it's now header\n",
    "\n",
    "# Convert 'Year_Birth' and 'Income' to numeric\n",
    "data['Year_Birth'] = pd.to_numeric(data['Year_Birth'], errors='coerce')\n",
    "data['Income'] = pd.to_numeric(data['Income'], errors='coerce')\n",
    "\n",
    "# Find all product expenditure columns (assuming they start with 'Mnt')\n",
    "product_columns = [col for col in data.columns if col.startswith('Mnt')]\n",
    "\n",
    "# Calculate the total spent for each person\n",
    "data['Total_Spent'] = data[product_columns].sum(axis=1)\n",
    "\n",
    "# Define thresholds for cleaning\n",
    "threshold_income = 5000  # Income below this is considered low\n",
    "threshold_spent = 1000   # Spending above this is considered too high for low income\n",
    "\n",
    "# Remove rows where 'Marital_Status' is 'YOLO'\n",
    "data = data[data['Marital_Status'] != 'YOLO']\n",
    "\n",
    "# Filter the data: Keep people born after 1900, and remove those with low income but high spending\n",
    "filtered_data = data[\n",
    "    (data['Year_Birth'] >= 1900) &  # Remove those born before 1900\n",
    "    ((data['Income'] > threshold_income) |  # Keep people with reasonable income\n",
    "     (data['Total_Spent'] <= threshold_spent))  # Or keep people with reasonable spending\n",
    "]\n",
    "\n",
    "# Save the cleaned data to a new Excel file\n",
    "cleaned_file_path = 'Cleaned_Camp_Market.xlsx'  # You can change the file name as needed\n",
    "filtered_data.to_excel(cleaned_file_path, index=False)\n",
    "\n",
    "print(\"Cleaned data saved to:\", cleaned_file_path)"
   ]
  }
 ],
 "metadata": {
  "language_info": {
   "name": "python"
  }
 },
 "nbformat": 4,
 "nbformat_minor": 2
}
