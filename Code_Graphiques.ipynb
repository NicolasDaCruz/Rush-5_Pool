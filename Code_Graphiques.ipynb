{
 "cells": [
  {
   "cell_type": "markdown",
   "id": "eb62e208",
   "metadata": {},
   "source": [
    "# Chargement des données"
   ]
  },
  {
   "cell_type": "markdown",
   "id": "4e53b3fd",
   "metadata": {},
   "source": [
    "# Visualisation des données"
   ]
  },
  {
   "cell_type": "code",
   "execution_count": 5,
   "metadata": {},
   "outputs": [
    {
     "name": "stdout",
     "output_type": "stream",
     "text": [
      "Erreur : Le fichier 'Camp_Market.xlsx' est introuvable.\n"
     ]
    }
   ],
   "source": [
    "import pandas as pd\n",
    "import numpy as np\n",
    "import matplotlib.pyplot as plt\n",
    "import seaborn as sns\n",
    "\n",
    "try:\n",
    "    df = pd.read_excel('Camp_Market.xlsx', engine='openpyxl')\n",
    "    print(\"Lecture du fichier Excel réussie !\")\n",
    "\n",
    "except FileNotFoundError:\n",
    "    print(\"Erreur : Le fichier 'Camp_Market.xlsx' est introuvable.\")\n",
    "except Exception as e:\n",
    "    print(f\"Erreur lors de la lecture du fichier Excel : {e}\")\n"
   ]
  },
  {
   "cell_type": "code",
   "execution_count": 6,
   "metadata": {},
   "outputs": [
    {
     "ename": "NameError",
     "evalue": "name 'df' is not defined",
     "output_type": "error",
     "traceback": [
      "\u001b[1;31m---------------------------------------------------------------------------\u001b[0m",
      "\u001b[1;31mNameError\u001b[0m                                 Traceback (most recent call last)",
      "Cell \u001b[1;32mIn[6], line 1\u001b[0m\n\u001b[1;32m----> 1\u001b[0m \u001b[43mdf\u001b[49m\u001b[38;5;241m.\u001b[39mhead()\n",
      "\u001b[1;31mNameError\u001b[0m: name 'df' is not defined"
     ]
    }
   ],
   "source": [
    "df.head()"
   ]
  },
  {
   "cell_type": "markdown",
   "id": "a576a871",
   "metadata": {},
   "source": [
    "# Transformation des données"
   ]
  },
  {
   "cell_type": "code",
   "execution_count": null,
   "metadata": {},
   "outputs": [],
   "source": [
    "df['Age'] = pd.to_datetime('today').year - df['Year_Birth']\n",
    "df['Spent'] = df[['MntWines', 'MntFruits', 'MntMeatProducts', 'MntFishProducts', 'MntSweetProducts', 'MntGoldProds']].sum(axis=1)\n",
    "df['Living_with'] = df['Marital_Status'].apply(lambda x: 'couple' if x in ['Married', 'Together'] else 'single')\n",
    "df['Children'] = df['Kidhome'] + df['Teenhome']\n",
    "df['Family_size'] = df['Children'] + df['Living_with'].apply(lambda x: 2 if x == 'couple' else 1)\n",
    "df['Is_parent'] = df['Children'].apply(lambda x: 1 if x > 0 else 0)\n",
    "\n",
    "\n",
    "def simplify_education(education):\n",
    "    if education in ['Basic', '2n Cycle', 'Graduation']:\n",
    "        return 'undergrad'\n",
    "    elif education == 'Master':\n",
    "        return 'grad'\n",
    "    elif education == 'PhD':\n",
    "        return 'postgrad'\n",
    "\n",
    "df['Education2'] = df['Education'].apply(simplify_education)\n",
    "\n",
    "df['Dt_Customer'] = pd.to_datetime(df['Dt_Customer'])\n",
    "df['Customer_for'] = (pd.to_datetime('today') - df['Dt_Customer']).dt.days\n",
    "\n",
    "\n",
    "df.head()"
   ]
  },
  {
   "cell_type": "markdown",
   "id": "2f26e953",
   "metadata": {},
   "source": [
    "# Exploration des données"
   ]
  },
  {
   "cell_type": "code",
   "execution_count": null,
   "metadata": {},
   "outputs": [],
   "source": [
    "df.describe()"
   ]
  },
  {
   "cell_type": "code",
   "execution_count": null,
   "metadata": {},
   "outputs": [],
   "source": [
    "average = np.mean(df['Age'])\n",
    "plt.axvline(x=average, color='red', linestyle='dotted', linewidth=2)\n",
    "df['Age'].hist(bins=30)\n",
    "plt.xlabel('Age')\n",
    "plt.ylabel('Frequency')\n",
    "plt.show()"
   ]
  },
  {
   "cell_type": "code",
   "execution_count": null,
   "metadata": {},
   "outputs": [],
   "source": [
    "df['Income'].hist(bins=30)\n",
    "average = np.mean(df['Income'])\n",
    "plt.axvline(x=average, color='red', linestyle='dotted', linewidth=2)\n",
    "plt.xlabel('Income')\n",
    "plt.ylabel('Frequency')\n",
    "plt.show()"
   ]
  },
  {
   "cell_type": "code",
   "execution_count": null,
   "metadata": {},
   "outputs": [],
   "source": [
    "plt.scatter(df['Income'], df['Spent'])\n",
    "plt.xlabel('Income')\n",
    "plt.ylabel('Spent')\n",
    "plt.show()"
   ]
  },
  {
   "cell_type": "markdown",
   "id": "804f88ea",
   "metadata": {},
   "source": [
    "# Visualisation des données"
   ]
  },
  {
   "cell_type": "code",
   "execution_count": null,
   "metadata": {},
   "outputs": [],
   "source": [
    "# Trie du DataFrame par âge\n",
    "df = df.sort_values(by='Age')\n",
    "\n",
    "# (Age) et nombre d'achats sur catalogue (NumCatalogPurchases)\n",
    "age = df['Age']\n",
    "num_catalog_purchases = df['NumWebPurchases']\n",
    "\n",
    "# Créez le graphique de courbe\n",
    "plt.figure(figsize=(10, 6))\n",
    "plt.plot(age, num_catalog_purchases, marker='o', linestyle='-', color='b')\n",
    "plt.title('Relation entre l\\'âge et les achats sur le web')\n",
    "plt.xlabel('Âge')\n",
    "plt.ylabel('Nombre d\\'achats sur catalogue')\n",
    "\n",
    "# Affichez la grille pour une meilleure lisibilité\n",
    "plt.grid(True)\n",
    "plt.show()\n"
   ]
  },
  {
   "cell_type": "markdown",
   "id": "46025428",
   "metadata": {},
   "source": [
    "# Visualisation des données"
   ]
  },
  {
   "cell_type": "code",
   "execution_count": null,
   "metadata": {},
   "outputs": [],
   "source": [
    "# Selection des Colonnes -> Family_size, MntMeatProducts, MntFishProducts, MntSweetProducts, MntFruits, MntWines, MntGoldProds\n",
    "selected_columns = ['Marital_Status', 'MntMeatProducts', 'MntFishProducts', 'MntSweetProducts', 'MntFruits', 'MntWines', 'MntGoldProds']\n",
    "df_selected = df[selected_columns]\n",
    "\n",
    "# Grouper les données par Family_size et calculez la somme des achats de chaque produit\n",
    "df_grouped = df_selected.groupby('Marital_Status').sum()\n",
    "\n",
    "# Création du graphique\n",
    "df_grouped.plot(kind='bar', stacked=True, figsize=(12, 8))\n",
    "plt.title('Tendance des achats de produits en fonction du status marital')\n",
    "plt.xlabel('Taille de la famille')\n",
    "plt.ylabel('Montant total des achats')\n",
    "plt.xticks(rotation=0) \n",
    "\n",
    "# Affichez le graphique\n",
    "plt.legend(loc='upper right')\n",
    "plt.show()\n"
   ]
  },
  {
   "cell_type": "markdown",
   "id": "9350ea36",
   "metadata": {},
   "source": [
    "# Visualisation des données"
   ]
  },
  {
   "cell_type": "code",
   "execution_count": null,
   "metadata": {},
   "outputs": [],
   "source": [
    "# Tranches d'âge\n",
    "bins = [0, 20, 30, 40, 50, 60, 70, float('inf')]\n",
    "labels = ['0-20', '21-30', '31-40', '41-50', '51-60', '61-70', '70+']\n",
    "\n",
    "# Ajoutez une nouvelle colonne 'AgeGroup' au DataFrame en fonction des tranches d'âge\n",
    "df['AgeGroup'] = pd.cut(df['Age'], bins=bins, labels=labels)\n",
    "\n",
    "# Sélectionnez les colonnes -> AgeGroup, MntMeatProducts, MntFishProducts, MntSweetProducts, MntFruits, MntWines, MntGoldProds\n",
    "selected_columns = ['AgeGroup', 'MntMeatProducts', 'MntFishProducts', 'MntSweetProducts', 'MntFruits', 'MntWines', 'MntGoldProds']\n",
    "df_selected = df[selected_columns]\n",
    "\n",
    "# Groupez les données par AgeGroup et calculez la somme des achats de chaque produit, avec observed=False\n",
    "df_grouped = df_selected.groupby('AgeGroup', observed=False).sum()\n",
    "\n",
    "# Créez un graphique en barres empilées\n",
    "df_grouped.plot(kind='bar', stacked=True, figsize=(12, 8))\n",
    "plt.title('Tendance des achats de produits en fonction de la tranche d\\'âge')\n",
    "plt.xlabel('Tranche d\\'âge')\n",
    "plt.ylabel('Montant total des achats')\n",
    "\n",
    "# Affichez le graphique\n",
    "plt.legend(loc='upper right')\n",
    "plt.show()\n"
   ]
  },
  {
   "cell_type": "code",
   "execution_count": null,
   "metadata": {},
   "outputs": [],
   "source": [
    "# Je vais calculer le montant total des achats pour chaque client\n",
    "df['TotalPurchase'] = df['MntMeatProducts'] + df['MntFishProducts'] + df['MntSweetProducts'] + df['MntFruits'] + df['MntWines'] + df['MntGoldProds']\n",
    "\n",
    "# Maintenant, je vais calculer le panier moyen en prenant la moyenne des montants totaux des achats\n",
    "panier_moyen = df['TotalPurchase'].mean()\n",
    "\n",
    "# J'affiche le résultat du calcul du panier moyen\n",
    "print(\"Le panier moyen des clients est de :\", panier_moyen)\n"
   ]
  },
  {
   "cell_type": "code",
   "execution_count": null,
   "metadata": {},
   "outputs": [],
   "source": [
    "# Je calcule le nombre total d'achats pour chaque client en additionnant les différents types d'achats\n",
    "df['TotalPurchases'] = df['NumCatalogPurchases'] + df['NumStorePurchases'] + df['NumWebPurchases'] + df['NumDealsPurchases'] + df['NumCatalogPurchases']\n",
    "\n",
    "# Je calcule ensuite la somme totale des montants d'achat de tous les clients, en combinant tous les types de produits\n",
    "somme_totale_achats = df['MntMeatProducts'] + df['MntFishProducts'] + df['MntSweetProducts'] + df['MntFruits'] + df['MntWines'] + df['MntGoldProds']\n",
    "\n",
    "# Je calcule maintenant le panier moyen par achat, en divisant la somme totale des achats par le nombre total d'achats\n",
    "panier_moyen_par_achat = somme_totale_achats.sum() / df['TotalPurchases'].sum()\n",
    "\n",
    "# J'affiche le résultat du calcul du panier moyen par achat\n",
    "print(\"Le panier moyen par achat est de :\", panier_moyen_par_achat)\n"
   ]
  },
  {
   "cell_type": "markdown",
   "id": "93ba8cc4",
   "metadata": {},
   "source": [
    "# Visualisation des données"
   ]
  },
  {
   "cell_type": "markdown",
   "id": "15bac823",
   "metadata": {},
   "source": [
    "# Clustering des clients"
   ]
  },
  {
   "cell_type": "code",
   "execution_count": null,
   "metadata": {},
   "outputs": [],
   "source": [
    "from sklearn.preprocessing import StandardScaler\n",
    "from sklearn.impute import SimpleImputer\n",
    "from sklearn.decomposition import PCA\n",
    "from sklearn.cluster import KMeans, AgglomerativeClustering\n",
    "import matplotlib.pyplot as plt\n",
    "from mpl_toolkits.mplot3d import Axes3D\n",
    "\n",
    "# Initialisation du standard scaler\n",
    "sc = StandardScaler()\n",
    "\n",
    "# Suppression des colonnes liées aux promotions avant de normaliser les données\n",
    "df_without_promo = df.drop(['AcceptedCmp1', 'AcceptedCmp2', 'AcceptedCmp3', 'AcceptedCmp4', 'AcceptedCmp5', 'Response'], axis=1)\n",
    "\n",
    "# Sélectionner uniquement les colonnes numériques pour les mettre à l'échelle\n",
    "numeric_columns = df_without_promo.select_dtypes(include=['number'])\n",
    "\n",
    "# Mise à l'échelle des données numériques\n",
    "df_scaled = sc.fit_transform(numeric_columns)\n",
    "\n",
    "# Initialisation de l'imputer pour gérer les valeurs manquantes\n",
    "imputer = SimpleImputer(strategy='mean')\n",
    "\n",
    "# Imputation des valeurs manquantes dans les données mises à l'échelle\n",
    "df_scaled = imputer.fit_transform(df_scaled)\n",
    "\n",
    "# Réduire les dimensions avec PCA à 3 composants principaux pour la visualisation\n",
    "pca = PCA(n_components=3)\n",
    "pca_result = pca.fit_transform(df_scaled)\n",
    "\n",
    "# Application de KMeans pour le clustering (3 clusters choisis)\n",
    "kmeans = KMeans(n_clusters=3)\n",
    "kmeans.fit(pca_result)\n",
    "\n",
    "# Récupération des labels des clusters\n",
    "y_kmeans = kmeans.labels_\n",
    "\n",
    "# Ajouter les labels des clusters au DataFrame original\n",
    "df['cluster'] = pd.Series(y_kmeans)\n",
    "\n",
    "# Création du graphique en 3D pour visualiser les clusters après PCA\n",
    "fig = plt.figure()\n",
    "ax = fig.add_subplot(111, projection='3d')\n",
    "\n",
    "# Création du scatter plot avec les 3 composantes principales\n",
    "scatter = ax.scatter(pca_result[:, 0], pca_result[:, 1], pca_result[:, 2], c=y_kmeans)\n",
    "\n",
    "# Ajout de la légende pour les clusters\n",
    "legend1 = ax.legend(*scatter.legend_elements(), title=\"Clusters\")\n",
    "ax.add_artist(legend1)\n",
    "\n",
    "# Affichage du graphique\n",
    "plt.show()\n"
   ]
  },
  {
   "cell_type": "markdown",
   "id": "f511e963",
   "metadata": {},
   "source": [
    "# Clustering des clients"
   ]
  },
  {
   "cell_type": "code",
   "execution_count": null,
   "metadata": {},
   "outputs": [],
   "source": [
    "from sklearn.cluster import KMeans\n",
    "import numpy as np\n",
    "\n",
    "# Je sélectionne les caractéristiques que je souhaite utiliser pour le clustering\n",
    "features = ['MntMeatProducts', 'MntFishProducts', 'MntSweetProducts', 'MntFruits', 'MntWines', 'MntGoldProds']\n",
    "\n",
    "# Je choisis le nombre de clusters que je veux (ici, 3 clusters)\n",
    "num_clusters = 3\n",
    "\n",
    "# Je définis un seuil de tolérance pour évaluer si les clusters sont bien équilibrés (ici 5% autour des 33,33%)\n",
    "tolerance = 0.05  # Ce seuil peut être ajusté selon les besoins\n",
    "\n",
    "# Je crée une instance de l'algorithme K-Means avec 3 clusters\n",
    "kmeans = KMeans(n_clusters=num_clusters, random_state=0)\n",
    "\n",
    "# J'applique le clustering sur les données et récupère les labels des clusters\n",
    "cluster_labels = kmeans.fit_predict(df[features])\n",
    "\n",
    "# Je compte combien de clients appartiennent à chaque cluster\n",
    "cluster_counts = np.bincount(cluster_labels)\n",
    "\n",
    "# Je calcule la proportion de clients dans chaque cluster\n",
    "proportions = cluster_counts / len(cluster_labels)\n",
    "\n",
    "# Je vérifie si les proportions sont proches de l'équilibre (environ 33,33% par cluster)\n",
    "equilibre = all(abs(proportion - 1/num_clusters) < tolerance for proportion in proportions)\n",
    "\n",
    "# J'affiche les proportions de clients dans chaque cluster\n",
    "for i, proportion in enumerate(proportions):\n",
    "    print(f\"Proportion de clients dans le cluster {i}: {proportion:.2%}\")\n",
    "\n",
    "# En fonction des proportions, j'affiche si la répartition est équilibrée ou non\n",
    "if equilibre:\n",
    "    print(\"\\nLes clusters divisent les clients de manière régulière.\")\n",
    "else:\n",
    "    print(\"\\nLes clusters ne divisent pas les clients de manière régulière.\")\n"
   ]
  },
  {
   "cell_type": "markdown",
   "id": "c120c393",
   "metadata": {},
   "source": [
    "# Clustering des clients"
   ]
  },
  {
   "cell_type": "code",
   "execution_count": null,
   "metadata": {},
   "outputs": [],
   "source": [
    "# Je compte le nombre de clients dans chaque cluster à partir des labels KMeans\n",
    "nbr_customers = np.bincount(y_kmeans)\n",
    "\n",
    "# Je transforme les labels KMeans en une série pandas pour avoir une vue plus flexible\n",
    "y_kmeans_series = pd.Series(y_kmeans)\n",
    "\n",
    "# Je compte à nouveau le nombre de clients dans chaque cluster, mais cette fois en utilisant les fonctionnalités de pandas\n",
    "nbr_customers = y_kmeans_series.value_counts()\n",
    "\n",
    "# J'affiche le nombre de clients dans chaque cluster\n",
    "print(nbr_customers)"
   ]
  },
  {
   "cell_type": "markdown",
   "id": "188568fa",
   "metadata": {},
   "source": [
    "# Visualisation des données"
   ]
  },
  {
   "cell_type": "markdown",
   "id": "d6bd5582",
   "metadata": {},
   "source": [
    "# Clustering des clients"
   ]
  },
  {
   "cell_type": "code",
   "execution_count": null,
   "metadata": {},
   "outputs": [],
   "source": [
    "import matplotlib.pyplot as plt\n",
    "\n",
    "# Je crée un graphique de dispersion montrant la relation entre le revenu ('Income') et les dépenses ('Spent')\n",
    "# Les points sont colorés en fonction des clusters KMeans (y_kmeans)\n",
    "plt.scatter(df['Income'], df['Spent'], c=y_kmeans, cmap='viridis')\n",
    "\n",
    "# J'ajoute des étiquettes aux axes pour rendre le graphique plus lisible\n",
    "plt.xlabel('Income')\n",
    "plt.ylabel('Spent')\n",
    "\n",
    "# J'affiche le graphique final\n",
    "plt.show()\n"
   ]
  },
  {
   "cell_type": "markdown",
   "id": "b6864c0a",
   "metadata": {},
   "source": [
    "# Visualisation des données"
   ]
  },
  {
   "cell_type": "code",
   "execution_count": null,
   "metadata": {},
   "outputs": [],
   "source": [
    "import numpy as np\n",
    "import matplotlib.pyplot as plt\n",
    "\n",
    "# Je boucle sur chaque cluster pour tracer séparément Income et Spending\n",
    "for cluster, group in df.groupby('cluster'):\n",
    "    \n",
    "    # Je crée un graphique de dispersion pour chaque cluster, en affichant les revenus (Income) et les dépenses (Spent)\n",
    "    plt.scatter(group['Income'], group['Spent'], label='cluster ' + str(cluster))\n",
    "    \n",
    "    # Je calcule la moyenne des revenus pour ce cluster et trace une ligne verticale à cet endroit\n",
    "    average = np.mean(group['Income'])\n",
    "    plt.axvline(x=average, color='red', linestyle='dotted', linewidth=2)\n",
    "\n",
    "    # J'ajoute des étiquettes aux axes et un titre personnalisé pour chaque cluster\n",
    "    plt.xlabel('Income')\n",
    "    plt.ylabel('Spending')\n",
    "    plt.title('Income vs Spending for cluster ' + str(cluster))\n",
    "    \n",
    "    # J'affiche le graphique pour le cluster courant\n",
    "    plt.show()\n"
   ]
  },
  {
   "cell_type": "markdown",
   "id": "ee542978",
   "metadata": {},
   "source": [
    "# Visualisation des données"
   ]
  },
  {
   "cell_type": "code",
   "execution_count": null,
   "metadata": {},
   "outputs": [],
   "source": [
    "import pandas as pd\n",
    "import matplotlib.pyplot as plt\n",
    "\n",
    "# Je commence par trier le DataFrame par âge pour que les données soient bien ordonnées\n",
    "df = df.sort_values(by='Age')\n",
    "\n",
    "# Je sélectionne les colonnes pertinentes : âge et nombre d'achats sur catalogue\n",
    "age = df['Age']\n",
    "num_catalog_purchases = df['NumCatalogPurchases']\n",
    "\n",
    "# Je crée une figure pour le graphique de courbe, en ajustant la taille pour une meilleure lisibilité\n",
    "plt.figure(figsize=(10, 6))\n",
    "\n",
    "# Je trace la courbe montrant la relation entre l'âge et les achats sur catalogue\n",
    "# Le marqueur 'o' rend les points visibles, la ligne '-' connecte les points\n",
    "plt.plot(age, num_catalog_purchases, marker='o', linestyle='-', color='b')\n",
    "\n",
    "# J'ajoute un titre et des étiquettes aux axes pour décrire ce que montre le graphique\n",
    "plt.title('Relation entre l\\'âge et les achats sur catalogue')\n",
    "plt.xlabel('Âge')\n",
    "plt.ylabel('Nombre d\\'achats sur catalogue')\n",
    "\n",
    "# J'affiche une grille pour rendre la lecture du graphique plus facile\n",
    "plt.grid(True)\n",
    "\n",
    "# J'affiche le graphique\n",
    "plt.show()\n"
   ]
  },
  {
   "cell_type": "markdown",
   "id": "28cc2754",
   "metadata": {},
   "source": [
    "# Visualisation des données"
   ]
  },
  {
   "cell_type": "code",
   "execution_count": null,
   "metadata": {},
   "outputs": [],
   "source": [
    "import pandas as pd\n",
    "import matplotlib.pyplot as plt\n",
    "\n",
    "# Je sélectionne uniquement les colonnes qui supportent l'opération de somme (exclusion des colonnes datetime et catégorielles)\n",
    "non_datetime_category_columns = df.select_dtypes(exclude=['datetime64', 'category']).columns\n",
    "\n",
    "# Je regroupe les données par clusters et je fais la somme des colonnes sélectionnées\n",
    "cluster_grouped = df.groupby('cluster')[non_datetime_category_columns].sum()\n",
    "\n",
    "# Liste des campagnes à analyser\n",
    "campaigns = ['AcceptedCmp1', 'AcceptedCmp2', 'AcceptedCmp3', 'AcceptedCmp4', 'AcceptedCmp5', 'Response']\n",
    "\n",
    "# Je boucle sur chaque campagne pour tracer un graphique en barres empilées par cluster\n",
    "for campaign in campaigns:\n",
    "    # Création d'un graphique en barres pour chaque campagne, avec les clusters en abscisse\n",
    "    cluster_grouped.plot(y=campaign, kind='bar', stacked=True, figsize=(8, 6))\n",
    "\n",
    "    # Je personnalise le titre et les étiquettes d'axes pour chaque graphique\n",
    "    plt.title(f'Répartition des réponses à la {campaign} par cluster', fontsize=14)\n",
    "    plt.xlabel('Cluster', fontsize=12)\n",
    "    plt.ylabel('Nombre de réponses', fontsize=12)\n",
    "\n",
    "    # J'affiche le graphique pour la campagne actuelle\n",
    "    plt.show()\n"
   ]
  },
  {
   "cell_type": "markdown",
   "id": "467c7860",
   "metadata": {},
   "source": [
    "# Visualisation des données"
   ]
  },
  {
   "cell_type": "code",
   "execution_count": null,
   "metadata": {},
   "outputs": [],
   "source": [
    "import pandas as pd\n",
    "import matplotlib.pyplot as plt\n",
    "\n",
    "# Je sélectionne la colonne 'Education' pour analyser la répartition des niveaux d'éducation des clients\n",
    "education = df['Education']\n",
    "\n",
    "# Je crée un histogramme pour visualiser la distribution des clients selon leur niveau d'éducation\n",
    "plt.figure(figsize=(10, 6))  # Je définis la taille du graphique pour une meilleure lisibilité\n",
    "\n",
    "# J'utilise 'value_counts()' pour compter le nombre de clients par niveau d'éducation, et je trace un graphique en barres\n",
    "education.value_counts().plot(kind='bar', color='skyblue')\n",
    "\n",
    "# J'ajoute un titre et des étiquettes pour clarifier les informations affichées\n",
    "plt.title('Distribution des clients par niveau d\\'éducation', fontsize=14)\n",
    "plt.xlabel('Niveau d\\'éducation', fontsize=12)\n",
    "plt.ylabel('Nombre de clients', fontsize=12)\n",
    "\n",
    "# Je fais pivoter les labels de l'axe X à 45 degrés pour qu'ils soient plus faciles à lire\n",
    "plt.xticks(rotation=45)\n",
    "\n",
    "# J'affiche le graphique final\n",
    "plt.tight_layout()  # J'ajuste la disposition pour éviter que les éléments ne se chevauchent\n",
    "plt.show()\n"
   ]
  }
 ],
 "metadata": {
  "kernelspec": {
   "display_name": "Python 3",
   "language": "python",
   "name": "python3"
  },
  "language_info": {
   "codemirror_mode": {
    "name": "ipython",
    "version": 3
   },
   "file_extension": ".py",
   "mimetype": "text/x-python",
   "name": "python",
   "nbconvert_exporter": "python",
   "pygments_lexer": "ipython3",
   "version": "3.12.6"
  }
 },
 "nbformat": 4,
 "nbformat_minor": 2
}
